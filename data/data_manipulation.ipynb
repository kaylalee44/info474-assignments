{
 "cells": [
  {
   "cell_type": "code",
   "execution_count": 48,
   "metadata": {},
   "outputs": [],
   "source": [
    "import pandas as pd\n",
    "import datetime as dt\n",
    "import matplotlib\n",
    "import matplotlib.pyplot as plt\n",
    "import seaborn as sns"
   ]
  },
  {
   "cell_type": "code",
   "execution_count": 49,
   "metadata": {},
   "outputs": [
    {
     "data": {
      "text/html": [
       "<div>\n",
       "<style scoped>\n",
       "    .dataframe tbody tr th:only-of-type {\n",
       "        vertical-align: middle;\n",
       "    }\n",
       "\n",
       "    .dataframe tbody tr th {\n",
       "        vertical-align: top;\n",
       "    }\n",
       "\n",
       "    .dataframe thead th {\n",
       "        text-align: right;\n",
       "    }\n",
       "</style>\n",
       "<table border=\"1\" class=\"dataframe\">\n",
       "  <thead>\n",
       "    <tr style=\"text-align: right;\">\n",
       "      <th></th>\n",
       "      <th>station</th>\n",
       "      <th>state</th>\n",
       "      <th>latitude</th>\n",
       "      <th>longitude</th>\n",
       "      <th>elevation</th>\n",
       "      <th>date</th>\n",
       "      <th>TMIN</th>\n",
       "      <th>TMAX</th>\n",
       "      <th>TAVG</th>\n",
       "      <th>AWND</th>\n",
       "      <th>WDF5</th>\n",
       "      <th>WSF5</th>\n",
       "      <th>SNOW</th>\n",
       "      <th>SNWD</th>\n",
       "      <th>PRCP</th>\n",
       "    </tr>\n",
       "  </thead>\n",
       "  <tbody>\n",
       "    <tr>\n",
       "      <th>0</th>\n",
       "      <td>GUAM INTL AP</td>\n",
       "      <td>GU</td>\n",
       "      <td>13.4836</td>\n",
       "      <td>144.7961</td>\n",
       "      <td>77.4</td>\n",
       "      <td>20170312</td>\n",
       "      <td>71.06</td>\n",
       "      <td>87.08</td>\n",
       "      <td>80.06</td>\n",
       "      <td>4.473880</td>\n",
       "      <td>360.0</td>\n",
       "      <td>21.027236</td>\n",
       "      <td>0.0</td>\n",
       "      <td>0.0</td>\n",
       "      <td>0.0</td>\n",
       "    </tr>\n",
       "    <tr>\n",
       "      <th>1</th>\n",
       "      <td>ROOSEVELT ROADS</td>\n",
       "      <td>PR</td>\n",
       "      <td>18.2550</td>\n",
       "      <td>-65.6408</td>\n",
       "      <td>10.1</td>\n",
       "      <td>20170404</td>\n",
       "      <td>77.00</td>\n",
       "      <td>86.00</td>\n",
       "      <td>NaN</td>\n",
       "      <td>8.947760</td>\n",
       "      <td>360.0</td>\n",
       "      <td>23.040482</td>\n",
       "      <td>NaN</td>\n",
       "      <td>NaN</td>\n",
       "      <td>0.0</td>\n",
       "    </tr>\n",
       "    <tr>\n",
       "      <th>2</th>\n",
       "      <td>ROOSEVELT ROADS</td>\n",
       "      <td>PR</td>\n",
       "      <td>18.2550</td>\n",
       "      <td>-65.6408</td>\n",
       "      <td>10.1</td>\n",
       "      <td>20170420</td>\n",
       "      <td>NaN</td>\n",
       "      <td>NaN</td>\n",
       "      <td>NaN</td>\n",
       "      <td>8.500372</td>\n",
       "      <td>360.0</td>\n",
       "      <td>21.922012</td>\n",
       "      <td>NaN</td>\n",
       "      <td>NaN</td>\n",
       "      <td>0.0</td>\n",
       "    </tr>\n",
       "    <tr>\n",
       "      <th>3</th>\n",
       "      <td>SAN JUAN L M MARIN AP</td>\n",
       "      <td>PR</td>\n",
       "      <td>18.4325</td>\n",
       "      <td>-66.0108</td>\n",
       "      <td>2.7</td>\n",
       "      <td>20170120</td>\n",
       "      <td>69.08</td>\n",
       "      <td>82.04</td>\n",
       "      <td>NaN</td>\n",
       "      <td>3.355410</td>\n",
       "      <td>360.0</td>\n",
       "      <td>17.000744</td>\n",
       "      <td>0.0</td>\n",
       "      <td>0.0</td>\n",
       "      <td>0.0</td>\n",
       "    </tr>\n",
       "    <tr>\n",
       "      <th>4</th>\n",
       "      <td>SAN JUAN L M MARIN AP</td>\n",
       "      <td>PR</td>\n",
       "      <td>18.4325</td>\n",
       "      <td>-66.0108</td>\n",
       "      <td>2.7</td>\n",
       "      <td>20170217</td>\n",
       "      <td>73.04</td>\n",
       "      <td>87.08</td>\n",
       "      <td>NaN</td>\n",
       "      <td>4.697574</td>\n",
       "      <td>360.0</td>\n",
       "      <td>19.908766</td>\n",
       "      <td>0.0</td>\n",
       "      <td>0.0</td>\n",
       "      <td>0.0</td>\n",
       "    </tr>\n",
       "  </tbody>\n",
       "</table>\n",
       "</div>"
      ],
      "text/plain": [
       "                 station state  latitude  longitude  elevation      date  \\\n",
       "0           GUAM INTL AP    GU   13.4836   144.7961       77.4  20170312   \n",
       "1        ROOSEVELT ROADS    PR   18.2550   -65.6408       10.1  20170404   \n",
       "2        ROOSEVELT ROADS    PR   18.2550   -65.6408       10.1  20170420   \n",
       "3  SAN JUAN L M MARIN AP    PR   18.4325   -66.0108        2.7  20170120   \n",
       "4  SAN JUAN L M MARIN AP    PR   18.4325   -66.0108        2.7  20170217   \n",
       "\n",
       "    TMIN   TMAX   TAVG      AWND   WDF5       WSF5  SNOW  SNWD  PRCP  \n",
       "0  71.06  87.08  80.06  4.473880  360.0  21.027236   0.0   0.0   0.0  \n",
       "1  77.00  86.00    NaN  8.947760  360.0  23.040482   NaN   NaN   0.0  \n",
       "2    NaN    NaN    NaN  8.500372  360.0  21.922012   NaN   NaN   0.0  \n",
       "3  69.08  82.04    NaN  3.355410  360.0  17.000744   0.0   0.0   0.0  \n",
       "4  73.04  87.08    NaN  4.697574  360.0  19.908766   0.0   0.0   0.0  "
      ]
     },
     "execution_count": 49,
     "metadata": {},
     "output_type": "execute_result"
    }
   ],
   "source": [
    "weather = pd.read_csv(\"data/weather.csv\")\n",
    "weather.head()"
   ]
  },
  {
   "cell_type": "code",
   "execution_count": 50,
   "metadata": {},
   "outputs": [
    {
     "data": {
      "text/html": [
       "<div>\n",
       "<style scoped>\n",
       "    .dataframe tbody tr th:only-of-type {\n",
       "        vertical-align: middle;\n",
       "    }\n",
       "\n",
       "    .dataframe tbody tr th {\n",
       "        vertical-align: top;\n",
       "    }\n",
       "\n",
       "    .dataframe thead th {\n",
       "        text-align: right;\n",
       "    }\n",
       "</style>\n",
       "<table border=\"1\" class=\"dataframe\">\n",
       "  <thead>\n",
       "    <tr style=\"text-align: right;\">\n",
       "      <th></th>\n",
       "      <th>station</th>\n",
       "      <th>state</th>\n",
       "      <th>latitude</th>\n",
       "      <th>longitude</th>\n",
       "      <th>elevation</th>\n",
       "      <th>date</th>\n",
       "      <th>TMIN</th>\n",
       "      <th>TMAX</th>\n",
       "      <th>TAVG</th>\n",
       "      <th>AWND</th>\n",
       "      <th>WDF5</th>\n",
       "      <th>WSF5</th>\n",
       "      <th>SNOW</th>\n",
       "      <th>SNWD</th>\n",
       "      <th>PRCP</th>\n",
       "    </tr>\n",
       "  </thead>\n",
       "  <tbody>\n",
       "    <tr>\n",
       "      <th>0</th>\n",
       "      <td>GUAM INTL AP</td>\n",
       "      <td>GU</td>\n",
       "      <td>13.4836</td>\n",
       "      <td>144.7961</td>\n",
       "      <td>77.4</td>\n",
       "      <td>2017-03-12</td>\n",
       "      <td>71.06</td>\n",
       "      <td>87.08</td>\n",
       "      <td>80.06</td>\n",
       "      <td>4.473880</td>\n",
       "      <td>360.0</td>\n",
       "      <td>21.027236</td>\n",
       "      <td>0.0</td>\n",
       "      <td>0.0</td>\n",
       "      <td>0.0</td>\n",
       "    </tr>\n",
       "    <tr>\n",
       "      <th>1</th>\n",
       "      <td>ROOSEVELT ROADS</td>\n",
       "      <td>PR</td>\n",
       "      <td>18.2550</td>\n",
       "      <td>-65.6408</td>\n",
       "      <td>10.1</td>\n",
       "      <td>2017-04-04</td>\n",
       "      <td>77.00</td>\n",
       "      <td>86.00</td>\n",
       "      <td>NaN</td>\n",
       "      <td>8.947760</td>\n",
       "      <td>360.0</td>\n",
       "      <td>23.040482</td>\n",
       "      <td>NaN</td>\n",
       "      <td>NaN</td>\n",
       "      <td>0.0</td>\n",
       "    </tr>\n",
       "    <tr>\n",
       "      <th>2</th>\n",
       "      <td>ROOSEVELT ROADS</td>\n",
       "      <td>PR</td>\n",
       "      <td>18.2550</td>\n",
       "      <td>-65.6408</td>\n",
       "      <td>10.1</td>\n",
       "      <td>2017-04-20</td>\n",
       "      <td>NaN</td>\n",
       "      <td>NaN</td>\n",
       "      <td>NaN</td>\n",
       "      <td>8.500372</td>\n",
       "      <td>360.0</td>\n",
       "      <td>21.922012</td>\n",
       "      <td>NaN</td>\n",
       "      <td>NaN</td>\n",
       "      <td>0.0</td>\n",
       "    </tr>\n",
       "    <tr>\n",
       "      <th>3</th>\n",
       "      <td>SAN JUAN L M MARIN AP</td>\n",
       "      <td>PR</td>\n",
       "      <td>18.4325</td>\n",
       "      <td>-66.0108</td>\n",
       "      <td>2.7</td>\n",
       "      <td>2017-01-20</td>\n",
       "      <td>69.08</td>\n",
       "      <td>82.04</td>\n",
       "      <td>NaN</td>\n",
       "      <td>3.355410</td>\n",
       "      <td>360.0</td>\n",
       "      <td>17.000744</td>\n",
       "      <td>0.0</td>\n",
       "      <td>0.0</td>\n",
       "      <td>0.0</td>\n",
       "    </tr>\n",
       "    <tr>\n",
       "      <th>4</th>\n",
       "      <td>SAN JUAN L M MARIN AP</td>\n",
       "      <td>PR</td>\n",
       "      <td>18.4325</td>\n",
       "      <td>-66.0108</td>\n",
       "      <td>2.7</td>\n",
       "      <td>2017-02-17</td>\n",
       "      <td>73.04</td>\n",
       "      <td>87.08</td>\n",
       "      <td>NaN</td>\n",
       "      <td>4.697574</td>\n",
       "      <td>360.0</td>\n",
       "      <td>19.908766</td>\n",
       "      <td>0.0</td>\n",
       "      <td>0.0</td>\n",
       "      <td>0.0</td>\n",
       "    </tr>\n",
       "  </tbody>\n",
       "</table>\n",
       "</div>"
      ],
      "text/plain": [
       "                 station state  latitude  longitude  elevation       date  \\\n",
       "0           GUAM INTL AP    GU   13.4836   144.7961       77.4 2017-03-12   \n",
       "1        ROOSEVELT ROADS    PR   18.2550   -65.6408       10.1 2017-04-04   \n",
       "2        ROOSEVELT ROADS    PR   18.2550   -65.6408       10.1 2017-04-20   \n",
       "3  SAN JUAN L M MARIN AP    PR   18.4325   -66.0108        2.7 2017-01-20   \n",
       "4  SAN JUAN L M MARIN AP    PR   18.4325   -66.0108        2.7 2017-02-17   \n",
       "\n",
       "    TMIN   TMAX   TAVG      AWND   WDF5       WSF5  SNOW  SNWD  PRCP  \n",
       "0  71.06  87.08  80.06  4.473880  360.0  21.027236   0.0   0.0   0.0  \n",
       "1  77.00  86.00    NaN  8.947760  360.0  23.040482   NaN   NaN   0.0  \n",
       "2    NaN    NaN    NaN  8.500372  360.0  21.922012   NaN   NaN   0.0  \n",
       "3  69.08  82.04    NaN  3.355410  360.0  17.000744   0.0   0.0   0.0  \n",
       "4  73.04  87.08    NaN  4.697574  360.0  19.908766   0.0   0.0   0.0  "
      ]
     },
     "execution_count": 50,
     "metadata": {},
     "output_type": "execute_result"
    }
   ],
   "source": [
    "weather['date'] = pd.to_datetime(weather['date'], format='%Y%m%d')\n",
    "weather.head()"
   ]
  },
  {
   "cell_type": "code",
   "execution_count": 51,
   "metadata": {},
   "outputs": [
    {
     "data": {
      "text/html": [
       "<div>\n",
       "<style scoped>\n",
       "    .dataframe tbody tr th:only-of-type {\n",
       "        vertical-align: middle;\n",
       "    }\n",
       "\n",
       "    .dataframe tbody tr th {\n",
       "        vertical-align: top;\n",
       "    }\n",
       "\n",
       "    .dataframe thead th {\n",
       "        text-align: right;\n",
       "    }\n",
       "</style>\n",
       "<table border=\"1\" class=\"dataframe\">\n",
       "  <thead>\n",
       "    <tr style=\"text-align: right;\">\n",
       "      <th></th>\n",
       "      <th>station</th>\n",
       "      <th>state</th>\n",
       "      <th>latitude</th>\n",
       "      <th>longitude</th>\n",
       "      <th>elevation</th>\n",
       "      <th>date</th>\n",
       "      <th>TMIN</th>\n",
       "      <th>TMAX</th>\n",
       "      <th>TAVG</th>\n",
       "      <th>AWND</th>\n",
       "      <th>WDF5</th>\n",
       "      <th>WSF5</th>\n",
       "      <th>SNOW</th>\n",
       "      <th>SNWD</th>\n",
       "      <th>PRCP</th>\n",
       "      <th>month</th>\n",
       "    </tr>\n",
       "  </thead>\n",
       "  <tbody>\n",
       "    <tr>\n",
       "      <th>0</th>\n",
       "      <td>GUAM INTL AP</td>\n",
       "      <td>GU</td>\n",
       "      <td>13.4836</td>\n",
       "      <td>144.7961</td>\n",
       "      <td>77.4</td>\n",
       "      <td>2017-03-12</td>\n",
       "      <td>71.06</td>\n",
       "      <td>87.08</td>\n",
       "      <td>80.06</td>\n",
       "      <td>4.473880</td>\n",
       "      <td>360.0</td>\n",
       "      <td>21.027236</td>\n",
       "      <td>0.0</td>\n",
       "      <td>0.0</td>\n",
       "      <td>0.0</td>\n",
       "      <td>March</td>\n",
       "    </tr>\n",
       "    <tr>\n",
       "      <th>1</th>\n",
       "      <td>ROOSEVELT ROADS</td>\n",
       "      <td>PR</td>\n",
       "      <td>18.2550</td>\n",
       "      <td>-65.6408</td>\n",
       "      <td>10.1</td>\n",
       "      <td>2017-04-04</td>\n",
       "      <td>77.00</td>\n",
       "      <td>86.00</td>\n",
       "      <td>NaN</td>\n",
       "      <td>8.947760</td>\n",
       "      <td>360.0</td>\n",
       "      <td>23.040482</td>\n",
       "      <td>NaN</td>\n",
       "      <td>NaN</td>\n",
       "      <td>0.0</td>\n",
       "      <td>April</td>\n",
       "    </tr>\n",
       "    <tr>\n",
       "      <th>2</th>\n",
       "      <td>ROOSEVELT ROADS</td>\n",
       "      <td>PR</td>\n",
       "      <td>18.2550</td>\n",
       "      <td>-65.6408</td>\n",
       "      <td>10.1</td>\n",
       "      <td>2017-04-20</td>\n",
       "      <td>NaN</td>\n",
       "      <td>NaN</td>\n",
       "      <td>NaN</td>\n",
       "      <td>8.500372</td>\n",
       "      <td>360.0</td>\n",
       "      <td>21.922012</td>\n",
       "      <td>NaN</td>\n",
       "      <td>NaN</td>\n",
       "      <td>0.0</td>\n",
       "      <td>April</td>\n",
       "    </tr>\n",
       "    <tr>\n",
       "      <th>3</th>\n",
       "      <td>SAN JUAN L M MARIN AP</td>\n",
       "      <td>PR</td>\n",
       "      <td>18.4325</td>\n",
       "      <td>-66.0108</td>\n",
       "      <td>2.7</td>\n",
       "      <td>2017-01-20</td>\n",
       "      <td>69.08</td>\n",
       "      <td>82.04</td>\n",
       "      <td>NaN</td>\n",
       "      <td>3.355410</td>\n",
       "      <td>360.0</td>\n",
       "      <td>17.000744</td>\n",
       "      <td>0.0</td>\n",
       "      <td>0.0</td>\n",
       "      <td>0.0</td>\n",
       "      <td>January</td>\n",
       "    </tr>\n",
       "    <tr>\n",
       "      <th>4</th>\n",
       "      <td>SAN JUAN L M MARIN AP</td>\n",
       "      <td>PR</td>\n",
       "      <td>18.4325</td>\n",
       "      <td>-66.0108</td>\n",
       "      <td>2.7</td>\n",
       "      <td>2017-02-17</td>\n",
       "      <td>73.04</td>\n",
       "      <td>87.08</td>\n",
       "      <td>NaN</td>\n",
       "      <td>4.697574</td>\n",
       "      <td>360.0</td>\n",
       "      <td>19.908766</td>\n",
       "      <td>0.0</td>\n",
       "      <td>0.0</td>\n",
       "      <td>0.0</td>\n",
       "      <td>February</td>\n",
       "    </tr>\n",
       "  </tbody>\n",
       "</table>\n",
       "</div>"
      ],
      "text/plain": [
       "                 station state  latitude  longitude  elevation       date  \\\n",
       "0           GUAM INTL AP    GU   13.4836   144.7961       77.4 2017-03-12   \n",
       "1        ROOSEVELT ROADS    PR   18.2550   -65.6408       10.1 2017-04-04   \n",
       "2        ROOSEVELT ROADS    PR   18.2550   -65.6408       10.1 2017-04-20   \n",
       "3  SAN JUAN L M MARIN AP    PR   18.4325   -66.0108        2.7 2017-01-20   \n",
       "4  SAN JUAN L M MARIN AP    PR   18.4325   -66.0108        2.7 2017-02-17   \n",
       "\n",
       "    TMIN   TMAX   TAVG      AWND   WDF5       WSF5  SNOW  SNWD  PRCP     month  \n",
       "0  71.06  87.08  80.06  4.473880  360.0  21.027236   0.0   0.0   0.0     March  \n",
       "1  77.00  86.00    NaN  8.947760  360.0  23.040482   NaN   NaN   0.0     April  \n",
       "2    NaN    NaN    NaN  8.500372  360.0  21.922012   NaN   NaN   0.0     April  \n",
       "3  69.08  82.04    NaN  3.355410  360.0  17.000744   0.0   0.0   0.0   January  \n",
       "4  73.04  87.08    NaN  4.697574  360.0  19.908766   0.0   0.0   0.0  February  "
      ]
     },
     "execution_count": 51,
     "metadata": {},
     "output_type": "execute_result"
    }
   ],
   "source": [
    "weather['month'] = weather['date'].dt.strftime('%B')\n",
    "weather.head()"
   ]
  },
  {
   "cell_type": "code",
   "execution_count": 53,
   "metadata": {},
   "outputs": [
    {
     "data": {
      "text/html": [
       "<div>\n",
       "<style scoped>\n",
       "    .dataframe tbody tr th:only-of-type {\n",
       "        vertical-align: middle;\n",
       "    }\n",
       "\n",
       "    .dataframe tbody tr th {\n",
       "        vertical-align: top;\n",
       "    }\n",
       "\n",
       "    .dataframe thead th {\n",
       "        text-align: right;\n",
       "    }\n",
       "</style>\n",
       "<table border=\"1\" class=\"dataframe\">\n",
       "  <thead>\n",
       "    <tr style=\"text-align: right;\">\n",
       "      <th></th>\n",
       "      <th>station</th>\n",
       "      <th>state</th>\n",
       "      <th>latitude</th>\n",
       "      <th>longitude</th>\n",
       "      <th>elevation</th>\n",
       "      <th>date</th>\n",
       "      <th>TMIN</th>\n",
       "      <th>TMAX</th>\n",
       "      <th>TAVG</th>\n",
       "      <th>AWND</th>\n",
       "      <th>WDF5</th>\n",
       "      <th>WSF5</th>\n",
       "      <th>SNOW</th>\n",
       "      <th>SNWD</th>\n",
       "      <th>PRCP</th>\n",
       "      <th>month</th>\n",
       "      <th>month-num</th>\n",
       "    </tr>\n",
       "  </thead>\n",
       "  <tbody>\n",
       "    <tr>\n",
       "      <th>0</th>\n",
       "      <td>GUAM INTL AP</td>\n",
       "      <td>GU</td>\n",
       "      <td>13.4836</td>\n",
       "      <td>144.7961</td>\n",
       "      <td>77.4</td>\n",
       "      <td>2017-03-12</td>\n",
       "      <td>71.06</td>\n",
       "      <td>87.08</td>\n",
       "      <td>80.06</td>\n",
       "      <td>4.473880</td>\n",
       "      <td>360.0</td>\n",
       "      <td>21.027236</td>\n",
       "      <td>0.0</td>\n",
       "      <td>0.0</td>\n",
       "      <td>0.0</td>\n",
       "      <td>March</td>\n",
       "      <td>3</td>\n",
       "    </tr>\n",
       "    <tr>\n",
       "      <th>1</th>\n",
       "      <td>ROOSEVELT ROADS</td>\n",
       "      <td>PR</td>\n",
       "      <td>18.2550</td>\n",
       "      <td>-65.6408</td>\n",
       "      <td>10.1</td>\n",
       "      <td>2017-04-04</td>\n",
       "      <td>77.00</td>\n",
       "      <td>86.00</td>\n",
       "      <td>NaN</td>\n",
       "      <td>8.947760</td>\n",
       "      <td>360.0</td>\n",
       "      <td>23.040482</td>\n",
       "      <td>NaN</td>\n",
       "      <td>NaN</td>\n",
       "      <td>0.0</td>\n",
       "      <td>April</td>\n",
       "      <td>4</td>\n",
       "    </tr>\n",
       "    <tr>\n",
       "      <th>2</th>\n",
       "      <td>ROOSEVELT ROADS</td>\n",
       "      <td>PR</td>\n",
       "      <td>18.2550</td>\n",
       "      <td>-65.6408</td>\n",
       "      <td>10.1</td>\n",
       "      <td>2017-04-20</td>\n",
       "      <td>NaN</td>\n",
       "      <td>NaN</td>\n",
       "      <td>NaN</td>\n",
       "      <td>8.500372</td>\n",
       "      <td>360.0</td>\n",
       "      <td>21.922012</td>\n",
       "      <td>NaN</td>\n",
       "      <td>NaN</td>\n",
       "      <td>0.0</td>\n",
       "      <td>April</td>\n",
       "      <td>4</td>\n",
       "    </tr>\n",
       "    <tr>\n",
       "      <th>3</th>\n",
       "      <td>SAN JUAN L M MARIN AP</td>\n",
       "      <td>PR</td>\n",
       "      <td>18.4325</td>\n",
       "      <td>-66.0108</td>\n",
       "      <td>2.7</td>\n",
       "      <td>2017-01-20</td>\n",
       "      <td>69.08</td>\n",
       "      <td>82.04</td>\n",
       "      <td>NaN</td>\n",
       "      <td>3.355410</td>\n",
       "      <td>360.0</td>\n",
       "      <td>17.000744</td>\n",
       "      <td>0.0</td>\n",
       "      <td>0.0</td>\n",
       "      <td>0.0</td>\n",
       "      <td>January</td>\n",
       "      <td>1</td>\n",
       "    </tr>\n",
       "    <tr>\n",
       "      <th>4</th>\n",
       "      <td>SAN JUAN L M MARIN AP</td>\n",
       "      <td>PR</td>\n",
       "      <td>18.4325</td>\n",
       "      <td>-66.0108</td>\n",
       "      <td>2.7</td>\n",
       "      <td>2017-02-17</td>\n",
       "      <td>73.04</td>\n",
       "      <td>87.08</td>\n",
       "      <td>NaN</td>\n",
       "      <td>4.697574</td>\n",
       "      <td>360.0</td>\n",
       "      <td>19.908766</td>\n",
       "      <td>0.0</td>\n",
       "      <td>0.0</td>\n",
       "      <td>0.0</td>\n",
       "      <td>February</td>\n",
       "      <td>2</td>\n",
       "    </tr>\n",
       "  </tbody>\n",
       "</table>\n",
       "</div>"
      ],
      "text/plain": [
       "                 station state  latitude  longitude  elevation       date  \\\n",
       "0           GUAM INTL AP    GU   13.4836   144.7961       77.4 2017-03-12   \n",
       "1        ROOSEVELT ROADS    PR   18.2550   -65.6408       10.1 2017-04-04   \n",
       "2        ROOSEVELT ROADS    PR   18.2550   -65.6408       10.1 2017-04-20   \n",
       "3  SAN JUAN L M MARIN AP    PR   18.4325   -66.0108        2.7 2017-01-20   \n",
       "4  SAN JUAN L M MARIN AP    PR   18.4325   -66.0108        2.7 2017-02-17   \n",
       "\n",
       "    TMIN   TMAX   TAVG      AWND   WDF5       WSF5  SNOW  SNWD  PRCP  \\\n",
       "0  71.06  87.08  80.06  4.473880  360.0  21.027236   0.0   0.0   0.0   \n",
       "1  77.00  86.00    NaN  8.947760  360.0  23.040482   NaN   NaN   0.0   \n",
       "2    NaN    NaN    NaN  8.500372  360.0  21.922012   NaN   NaN   0.0   \n",
       "3  69.08  82.04    NaN  3.355410  360.0  17.000744   0.0   0.0   0.0   \n",
       "4  73.04  87.08    NaN  4.697574  360.0  19.908766   0.0   0.0   0.0   \n",
       "\n",
       "      month  month-num  \n",
       "0     March          3  \n",
       "1     April          4  \n",
       "2     April          4  \n",
       "3   January          1  \n",
       "4  February          2  "
      ]
     },
     "execution_count": 53,
     "metadata": {},
     "output_type": "execute_result"
    }
   ],
   "source": [
    "weather['month-num'] = weather['date'].dt.month\n",
    "weather.head()"
   ]
  },
  {
   "cell_type": "markdown",
   "metadata": {},
   "source": [
    "# Elevation vs. Average Temperature"
   ]
  },
  {
   "cell_type": "code",
   "execution_count": 9,
   "metadata": {},
   "outputs": [
    {
     "data": {
      "text/html": [
       "<div>\n",
       "<style scoped>\n",
       "    .dataframe tbody tr th:only-of-type {\n",
       "        vertical-align: middle;\n",
       "    }\n",
       "\n",
       "    .dataframe tbody tr th {\n",
       "        vertical-align: top;\n",
       "    }\n",
       "\n",
       "    .dataframe thead th {\n",
       "        text-align: right;\n",
       "    }\n",
       "</style>\n",
       "<table border=\"1\" class=\"dataframe\">\n",
       "  <thead>\n",
       "    <tr style=\"text-align: right;\">\n",
       "      <th></th>\n",
       "      <th>elevation</th>\n",
       "      <th>TAVG</th>\n",
       "    </tr>\n",
       "  </thead>\n",
       "  <tbody>\n",
       "    <tr>\n",
       "      <th>0</th>\n",
       "      <td>1.2</td>\n",
       "      <td>76.393629</td>\n",
       "    </tr>\n",
       "    <tr>\n",
       "      <th>1</th>\n",
       "      <td>1.5</td>\n",
       "      <td>66.183793</td>\n",
       "    </tr>\n",
       "    <tr>\n",
       "      <th>2</th>\n",
       "      <td>2.1</td>\n",
       "      <td>68.076897</td>\n",
       "    </tr>\n",
       "    <tr>\n",
       "      <th>3</th>\n",
       "      <td>2.4</td>\n",
       "      <td>58.928966</td>\n",
       "    </tr>\n",
       "    <tr>\n",
       "      <th>4</th>\n",
       "      <td>2.7</td>\n",
       "      <td>52.024656</td>\n",
       "    </tr>\n",
       "  </tbody>\n",
       "</table>\n",
       "</div>"
      ],
      "text/plain": [
       "   elevation       TAVG\n",
       "0        1.2  76.393629\n",
       "1        1.5  66.183793\n",
       "2        2.1  68.076897\n",
       "3        2.4  58.928966\n",
       "4        2.7  52.024656"
      ]
     },
     "execution_count": 9,
     "metadata": {},
     "output_type": "execute_result"
    }
   ],
   "source": [
    "df = weather[[\"elevation\", \"TAVG\"]].dropna()\n",
    "df = df.groupby(\"elevation\").mean().reset_index()\n",
    "df.head()"
   ]
  },
  {
   "cell_type": "code",
   "execution_count": 10,
   "metadata": {},
   "outputs": [
    {
     "data": {
      "text/plain": [
       "[<matplotlib.lines.Line2D at 0x2711ea8dc10>]"
      ]
     },
     "execution_count": 10,
     "metadata": {},
     "output_type": "execute_result"
    },
    {
     "data": {
      "image/png": "[encoded data removed]",
      "text/plain": [
       "<Figure size 1440x360 with 1 Axes>"
      ]
     },
     "metadata": {
      "needs_background": "light"
     },
     "output_type": "display_data"
    }
   ],
   "source": [
    "plt.subplots(figsize=(20,5))\n",
    "plt.plot(df[\"elevation\"], df[\"TAVG\"])"
   ]
  },
  {
   "cell_type": "code",
   "execution_count": 11,
   "metadata": {},
   "outputs": [],
   "source": [
    "df.to_csv(\"elevation_avgtemp.csv\")"
   ]
  },
  {
   "cell_type": "markdown",
   "metadata": {},
   "source": [
    "# Month vs. Precipitation"
   ]
  },
  {
   "cell_type": "code",
   "execution_count": 56,
   "metadata": {},
   "outputs": [
    {
     "data": {
      "text/html": [
       "<div>\n",
       "<style scoped>\n",
       "    .dataframe tbody tr th:only-of-type {\n",
       "        vertical-align: middle;\n",
       "    }\n",
       "\n",
       "    .dataframe tbody tr th {\n",
       "        vertical-align: top;\n",
       "    }\n",
       "\n",
       "    .dataframe thead th {\n",
       "        text-align: right;\n",
       "    }\n",
       "</style>\n",
       "<table border=\"1\" class=\"dataframe\">\n",
       "  <thead>\n",
       "    <tr style=\"text-align: right;\">\n",
       "      <th></th>\n",
       "      <th>month</th>\n",
       "      <th>PRCP</th>\n",
       "      <th>month-num</th>\n",
       "    </tr>\n",
       "  </thead>\n",
       "  <tbody>\n",
       "    <tr>\n",
       "      <th>3</th>\n",
       "      <td>January</td>\n",
       "      <td>0.146761</td>\n",
       "      <td>1</td>\n",
       "    </tr>\n",
       "    <tr>\n",
       "      <th>2</th>\n",
       "      <td>February</td>\n",
       "      <td>0.149415</td>\n",
       "      <td>2</td>\n",
       "    </tr>\n",
       "    <tr>\n",
       "      <th>6</th>\n",
       "      <td>March</td>\n",
       "      <td>0.129484</td>\n",
       "      <td>3</td>\n",
       "    </tr>\n",
       "    <tr>\n",
       "      <th>0</th>\n",
       "      <td>April</td>\n",
       "      <td>0.131090</td>\n",
       "      <td>4</td>\n",
       "    </tr>\n",
       "    <tr>\n",
       "      <th>7</th>\n",
       "      <td>May</td>\n",
       "      <td>0.099035</td>\n",
       "      <td>5</td>\n",
       "    </tr>\n",
       "  </tbody>\n",
       "</table>\n",
       "</div>"
      ],
      "text/plain": [
       "      month      PRCP  month-num\n",
       "3   January  0.146761          1\n",
       "2  February  0.149415          2\n",
       "6     March  0.129484          3\n",
       "0     April  0.131090          4\n",
       "7       May  0.099035          5"
      ]
     },
     "execution_count": 56,
     "metadata": {},
     "output_type": "execute_result"
    }
   ],
   "source": [
    "df = weather[[\"month\", \"PRCP\", \"month-num\"]].dropna()\n",
    "df = df.groupby(\"month\").mean().reset_index()\n",
    "df = df.sort_values('month-num')\n",
    "df.head()"
   ]
  },
  {
   "cell_type": "code",
   "execution_count": 57,
   "metadata": {},
   "outputs": [
    {
     "data": {
      "text/plain": [
       "[<matplotlib.lines.Line2D at 0x27134098eb0>]"
      ]
     },
     "execution_count": 57,
     "metadata": {},
     "output_type": "execute_result"
    },
    {
     "data": {
      "image/png": "[encoded data removed]",
      "text/plain": [
       "<Figure size 1440x360 with 1 Axes>"
      ]
     },
     "metadata": {
      "needs_background": "light"
     },
     "output_type": "display_data"
    }
   ],
   "source": [
    "plt.subplots(figsize=(20,5))\n",
    "plt.plot(df[\"month\"], df[\"PRCP\"])"
   ]
  },
  {
   "cell_type": "code",
   "execution_count": 58,
   "metadata": {},
   "outputs": [],
   "source": [
    "df.to_csv(\"month_precip.csv\")"
   ]
  },
  {
   "cell_type": "markdown",
   "metadata": {},
   "source": [
    "# Average Temperature vs. State"
   ]
  },
  {
   "cell_type": "code",
   "execution_count": 15,
   "metadata": {},
   "outputs": [
    {
     "data": {
      "text/html": [
       "<div>\n",
       "<style scoped>\n",
       "    .dataframe tbody tr th:only-of-type {\n",
       "        vertical-align: middle;\n",
       "    }\n",
       "\n",
       "    .dataframe tbody tr th {\n",
       "        vertical-align: top;\n",
       "    }\n",
       "\n",
       "    .dataframe thead th {\n",
       "        text-align: right;\n",
       "    }\n",
       "</style>\n",
       "<table border=\"1\" class=\"dataframe\">\n",
       "  <thead>\n",
       "    <tr style=\"text-align: right;\">\n",
       "      <th></th>\n",
       "      <th>state</th>\n",
       "      <th>TAVG</th>\n",
       "    </tr>\n",
       "  </thead>\n",
       "  <tbody>\n",
       "    <tr>\n",
       "      <th>0</th>\n",
       "      <td>AB</td>\n",
       "      <td>43.131451</td>\n",
       "    </tr>\n",
       "    <tr>\n",
       "      <th>1</th>\n",
       "      <td>AK</td>\n",
       "      <td>35.649221</td>\n",
       "    </tr>\n",
       "    <tr>\n",
       "      <th>2</th>\n",
       "      <td>AL</td>\n",
       "      <td>68.883034</td>\n",
       "    </tr>\n",
       "    <tr>\n",
       "      <th>3</th>\n",
       "      <td>AR</td>\n",
       "      <td>64.612759</td>\n",
       "    </tr>\n",
       "    <tr>\n",
       "      <th>4</th>\n",
       "      <td>AZ</td>\n",
       "      <td>56.182558</td>\n",
       "    </tr>\n",
       "  </tbody>\n",
       "</table>\n",
       "</div>"
      ],
      "text/plain": [
       "  state       TAVG\n",
       "0    AB  43.131451\n",
       "1    AK  35.649221\n",
       "2    AL  68.883034\n",
       "3    AR  64.612759\n",
       "4    AZ  56.182558"
      ]
     },
     "execution_count": 15,
     "metadata": {},
     "output_type": "execute_result"
    }
   ],
   "source": [
    "df = weather[[\"TAVG\", \"state\"]].dropna()\n",
    "df = df.groupby(\"state\").mean().reset_index()\n",
    "df.head()"
   ]
  },
  {
   "cell_type": "code",
   "execution_count": 16,
   "metadata": {},
   "outputs": [
    {
     "data": {
      "text/plain": [
       "<BarContainer object of 61 artists>"
      ]
     },
     "execution_count": 16,
     "metadata": {},
     "output_type": "execute_result"
    },
    {
     "data": {
      "image/png": "[encoded data removed]",
      "text/plain": [
       "<Figure size 1440x360 with 1 Axes>"
      ]
     },
     "metadata": {
      "needs_background": "light"
     },
     "output_type": "display_data"
    }
   ],
   "source": [
    "plt.subplots(figsize=(20,5))\n",
    "plt.bar(df[\"state\"], df[\"TAVG\"])"
   ]
  },
  {
   "cell_type": "code",
   "execution_count": 17,
   "metadata": {},
   "outputs": [],
   "source": [
    "df.to_csv(\"state_tavg.csv\")"
   ]
  },
  {
   "cell_type": "markdown",
   "metadata": {},
   "source": [
    "# Count of States"
   ]
  },
  {
   "cell_type": "code",
   "execution_count": 31,
   "metadata": {},
   "outputs": [
    {
     "data": {
      "text/html": [
       "<div>\n",
       "<style scoped>\n",
       "    .dataframe tbody tr th:only-of-type {\n",
       "        vertical-align: middle;\n",
       "    }\n",
       "\n",
       "    .dataframe tbody tr th {\n",
       "        vertical-align: top;\n",
       "    }\n",
       "\n",
       "    .dataframe thead th {\n",
       "        text-align: right;\n",
       "    }\n",
       "</style>\n",
       "<table border=\"1\" class=\"dataframe\">\n",
       "  <thead>\n",
       "    <tr style=\"text-align: right;\">\n",
       "      <th></th>\n",
       "      <th>state</th>\n",
       "      <th>count</th>\n",
       "    </tr>\n",
       "  </thead>\n",
       "  <tbody>\n",
       "    <tr>\n",
       "      <th>51</th>\n",
       "      <td>AB</td>\n",
       "      <td>528</td>\n",
       "    </tr>\n",
       "    <tr>\n",
       "      <th>8</th>\n",
       "      <td>AK</td>\n",
       "      <td>18627</td>\n",
       "    </tr>\n",
       "    <tr>\n",
       "      <th>33</th>\n",
       "      <td>AL</td>\n",
       "      <td>3908</td>\n",
       "    </tr>\n",
       "    <tr>\n",
       "      <th>30</th>\n",
       "      <td>AR</td>\n",
       "      <td>4162</td>\n",
       "    </tr>\n",
       "    <tr>\n",
       "      <th>15</th>\n",
       "      <td>AZ</td>\n",
       "      <td>6808</td>\n",
       "    </tr>\n",
       "  </tbody>\n",
       "</table>\n",
       "</div>"
      ],
      "text/plain": [
       "   state  count\n",
       "51    AB    528\n",
       "8     AK  18627\n",
       "33    AL   3908\n",
       "30    AR   4162\n",
       "15    AZ   6808"
      ]
     },
     "execution_count": 31,
     "metadata": {},
     "output_type": "execute_result"
    }
   ],
   "source": [
    "df = weather[\"state\"].dropna()\n",
    "df = df.value_counts().reset_index()\n",
    "df = df.sort_values('index')\n",
    "df.columns = ['state', 'count']\n",
    "df.head()"
   ]
  },
  {
   "cell_type": "code",
   "execution_count": 32,
   "metadata": {},
   "outputs": [
    {
     "data": {
      "text/plain": [
       "<BarContainer object of 64 artists>"
      ]
     },
     "execution_count": 32,
     "metadata": {},
     "output_type": "execute_result"
    },
    {
     "data": {
      "image/png": "[encoded data removed]",
      "text/plain": [
       "<Figure size 1440x360 with 1 Axes>"
      ]
     },
     "metadata": {
      "needs_background": "light"
     },
     "output_type": "display_data"
    }
   ],
   "source": [
    "plt.subplots(figsize=(20,5))\n",
    "plt.bar(df[\"state\"], df[\"count\"])"
   ]
  },
  {
   "cell_type": "code",
   "execution_count": 33,
   "metadata": {},
   "outputs": [],
   "source": [
    "df.to_csv(\"state_count.csv\")"
   ]
  },
  {
   "cell_type": "markdown",
   "metadata": {},
   "source": [
    "# Wind Speed"
   ]
  },
  {
   "cell_type": "code",
   "execution_count": 44,
   "metadata": {},
   "outputs": [
    {
     "data": {
      "text/html": [
       "<div>\n",
       "<style scoped>\n",
       "    .dataframe tbody tr th:only-of-type {\n",
       "        vertical-align: middle;\n",
       "    }\n",
       "\n",
       "    .dataframe tbody tr th {\n",
       "        vertical-align: top;\n",
       "    }\n",
       "\n",
       "    .dataframe thead th {\n",
       "        text-align: right;\n",
       "    }\n",
       "</style>\n",
       "<table border=\"1\" class=\"dataframe\">\n",
       "  <thead>\n",
       "    <tr style=\"text-align: right;\">\n",
       "      <th></th>\n",
       "      <th>AWND</th>\n",
       "      <th>state</th>\n",
       "      <th>TAVG</th>\n",
       "    </tr>\n",
       "  </thead>\n",
       "  <tbody>\n",
       "    <tr>\n",
       "      <th>0</th>\n",
       "      <td>4.473880</td>\n",
       "      <td>GU</td>\n",
       "      <td>80.06</td>\n",
       "    </tr>\n",
       "    <tr>\n",
       "      <th>7</th>\n",
       "      <td>3.802798</td>\n",
       "      <td>MT</td>\n",
       "      <td>13.64</td>\n",
       "    </tr>\n",
       "    <tr>\n",
       "      <th>8</th>\n",
       "      <td>4.026492</td>\n",
       "      <td>MT</td>\n",
       "      <td>44.24</td>\n",
       "    </tr>\n",
       "    <tr>\n",
       "      <th>9</th>\n",
       "      <td>3.579104</td>\n",
       "      <td>MT</td>\n",
       "      <td>59.72</td>\n",
       "    </tr>\n",
       "    <tr>\n",
       "      <th>10</th>\n",
       "      <td>6.039738</td>\n",
       "      <td>MT</td>\n",
       "      <td>71.60</td>\n",
       "    </tr>\n",
       "  </tbody>\n",
       "</table>\n",
       "</div>"
      ],
      "text/plain": [
       "        AWND state   TAVG\n",
       "0   4.473880    GU  80.06\n",
       "7   3.802798    MT  13.64\n",
       "8   4.026492    MT  44.24\n",
       "9   3.579104    MT  59.72\n",
       "10  6.039738    MT  71.60"
      ]
     },
     "execution_count": 44,
     "metadata": {},
     "output_type": "execute_result"
    }
   ],
   "source": [
    "df = weather[[\"AWND\", \"state\", \"TAVG\"]].dropna()\n",
    "df.head()"
   ]
  },
  {
   "cell_type": "markdown",
   "metadata": {},
   "source": [
    "# Average Wind Speed vs. State"
   ]
  },
  {
   "cell_type": "code",
   "execution_count": 41,
   "metadata": {},
   "outputs": [
    {
     "data": {
      "text/html": [
       "<div>\n",
       "<style scoped>\n",
       "    .dataframe tbody tr th:only-of-type {\n",
       "        vertical-align: middle;\n",
       "    }\n",
       "\n",
       "    .dataframe tbody tr th {\n",
       "        vertical-align: top;\n",
       "    }\n",
       "\n",
       "    .dataframe thead th {\n",
       "        text-align: right;\n",
       "    }\n",
       "</style>\n",
       "<table border=\"1\" class=\"dataframe\">\n",
       "  <thead>\n",
       "    <tr style=\"text-align: right;\">\n",
       "      <th></th>\n",
       "      <th>state</th>\n",
       "      <th>AWND</th>\n",
       "    </tr>\n",
       "  </thead>\n",
       "  <tbody>\n",
       "    <tr>\n",
       "      <th>0</th>\n",
       "      <td>AK</td>\n",
       "      <td>7.737317</td>\n",
       "    </tr>\n",
       "    <tr>\n",
       "      <th>1</th>\n",
       "      <td>AL</td>\n",
       "      <td>5.589994</td>\n",
       "    </tr>\n",
       "    <tr>\n",
       "      <th>2</th>\n",
       "      <td>AR</td>\n",
       "      <td>6.508412</td>\n",
       "    </tr>\n",
       "    <tr>\n",
       "      <th>3</th>\n",
       "      <td>AZ</td>\n",
       "      <td>7.331594</td>\n",
       "    </tr>\n",
       "    <tr>\n",
       "      <th>4</th>\n",
       "      <td>CA</td>\n",
       "      <td>6.889778</td>\n",
       "    </tr>\n",
       "  </tbody>\n",
       "</table>\n",
       "</div>"
      ],
      "text/plain": [
       "  state      AWND\n",
       "0    AK  7.737317\n",
       "1    AL  5.589994\n",
       "2    AR  6.508412\n",
       "3    AZ  7.331594\n",
       "4    CA  6.889778"
      ]
     },
     "execution_count": 41,
     "metadata": {},
     "output_type": "execute_result"
    }
   ],
   "source": [
    "df = weather[[\"AWND\", \"state\"]].dropna()\n",
    "df = df.groupby(\"state\").mean().reset_index()\n",
    "df.head()"
   ]
  },
  {
   "cell_type": "code",
   "execution_count": 42,
   "metadata": {},
   "outputs": [
    {
     "data": {
      "text/plain": [
       "<BarContainer object of 54 artists>"
      ]
     },
     "execution_count": 42,
     "metadata": {},
     "output_type": "execute_result"
    },
    {
     "data": {
      "image/png": "[encoded data removed]",
      "text/plain": [
       "<Figure size 1440x360 with 1 Axes>"
      ]
     },
     "metadata": {
      "needs_background": "light"
     },
     "output_type": "display_data"
    }
   ],
   "source": [
    "plt.subplots(figsize=(20,5))\n",
    "plt.bar(df[\"state\"], df[\"AWND\"])"
   ]
  },
  {
   "cell_type": "code",
   "execution_count": 43,
   "metadata": {},
   "outputs": [],
   "source": [
    "df.to_csv(\"windspeed_state.csv\")"
   ]
  },
  {
   "cell_type": "markdown",
   "metadata": {},
   "source": [
    "# Snowfall vs. Snow Depth vs. Month"
   ]
  },
  {
   "cell_type": "code",
   "execution_count": 59,
   "metadata": {},
   "outputs": [
    {
     "data": {
      "text/html": [
       "<div>\n",
       "<style scoped>\n",
       "    .dataframe tbody tr th:only-of-type {\n",
       "        vertical-align: middle;\n",
       "    }\n",
       "\n",
       "    .dataframe tbody tr th {\n",
       "        vertical-align: top;\n",
       "    }\n",
       "\n",
       "    .dataframe thead th {\n",
       "        text-align: right;\n",
       "    }\n",
       "</style>\n",
       "<table border=\"1\" class=\"dataframe\">\n",
       "  <thead>\n",
       "    <tr style=\"text-align: right;\">\n",
       "      <th></th>\n",
       "      <th>month</th>\n",
       "      <th>SNOW</th>\n",
       "      <th>SNWD</th>\n",
       "      <th>month-num</th>\n",
       "    </tr>\n",
       "  </thead>\n",
       "  <tbody>\n",
       "    <tr>\n",
       "      <th>3</th>\n",
       "      <td>January</td>\n",
       "      <td>0.160239</td>\n",
       "      <td>1.695030</td>\n",
       "      <td>1</td>\n",
       "    </tr>\n",
       "    <tr>\n",
       "      <th>2</th>\n",
       "      <td>February</td>\n",
       "      <td>0.148118</td>\n",
       "      <td>1.666890</td>\n",
       "      <td>2</td>\n",
       "    </tr>\n",
       "    <tr>\n",
       "      <th>6</th>\n",
       "      <td>March</td>\n",
       "      <td>0.111422</td>\n",
       "      <td>1.094053</td>\n",
       "      <td>3</td>\n",
       "    </tr>\n",
       "    <tr>\n",
       "      <th>0</th>\n",
       "      <td>April</td>\n",
       "      <td>0.026601</td>\n",
       "      <td>0.343298</td>\n",
       "      <td>4</td>\n",
       "    </tr>\n",
       "    <tr>\n",
       "      <th>7</th>\n",
       "      <td>May</td>\n",
       "      <td>0.003531</td>\n",
       "      <td>0.017059</td>\n",
       "      <td>5</td>\n",
       "    </tr>\n",
       "  </tbody>\n",
       "</table>\n",
       "</div>"
      ],
      "text/plain": [
       "      month      SNOW      SNWD  month-num\n",
       "3   January  0.160239  1.695030          1\n",
       "2  February  0.148118  1.666890          2\n",
       "6     March  0.111422  1.094053          3\n",
       "0     April  0.026601  0.343298          4\n",
       "7       May  0.003531  0.017059          5"
      ]
     },
     "execution_count": 59,
     "metadata": {},
     "output_type": "execute_result"
    }
   ],
   "source": [
    "df = weather[[\"SNOW\", \"SNWD\", \"month\", \"month-num\"]].dropna()\n",
    "df = df.groupby(\"month\").mean().reset_index()\n",
    "df = df.sort_values('month-num')\n",
    "df.head()"
   ]
  },
  {
   "cell_type": "code",
   "execution_count": 60,
   "metadata": {},
   "outputs": [
    {
     "data": {
      "text/plain": [
       "[<matplotlib.lines.Line2D at 0x27124a91160>]"
      ]
     },
     "execution_count": 60,
     "metadata": {},
     "output_type": "execute_result"
    },
    {
     "data": {
      "image/png": "[encoded data removed]",
      "text/plain": [
       "<Figure size 1440x360 with 1 Axes>"
      ]
     },
     "metadata": {
      "needs_background": "light"
     },
     "output_type": "display_data"
    }
   ],
   "source": [
    "plt.subplots(figsize=(20,5))\n",
    "plt.plot(df[\"month\"], df[\"SNOW\"])\n",
    "plt.plot(df[\"month\"], df[\"SNWD\"])"
   ]
  },
  {
   "cell_type": "code",
   "execution_count": 61,
   "metadata": {},
   "outputs": [],
   "source": [
    "df.to_csv(\"snow_snwd_month.csv\")"
   ]
  },
  {
   "cell_type": "code",
   "execution_count": null,
   "metadata": {},
   "outputs": [],
   "source": []
  }
 ],
 "metadata": {
  "kernelspec": {
   "display_name": "Python 3",
   "language": "python",
   "name": "python3"
  },
  "language_info": {
   "codemirror_mode": {
    "name": "ipython",
    "version": 3
   },
   "file_extension": ".py",
   "mimetype": "text/x-python",
   "name": "python",
   "nbconvert_exporter": "python",
   "pygments_lexer": "ipython3",
   "version": "3.8.5"
  }
 },
 "nbformat": 4,
 "nbformat_minor": 4
}
